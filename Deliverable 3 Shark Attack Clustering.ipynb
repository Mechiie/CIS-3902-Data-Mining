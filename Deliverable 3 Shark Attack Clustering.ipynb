{
 "cells": [
  {
   "cell_type": "markdown",
   "metadata": {},
   "source": [
    "### Data Mining Spring 2021 Project: Deliverable 3 Clustering and Final Results\n",
    "#### Understanding and predicting Shark Presence in Near Shore Waters\n",
    "#### Group Members:<br><br>\n",
    "<p> Your overall project has three deliverables: we are on the final deliverable for clustering<br>\n",
    "Deliverable 1:  Domain Understanding, Data Exploration and Preparation, Decision Trees and Random Forests<br>\n",
    "Deliverable 2:  Association Rules<br>\n",
    "Deliverable 3:  Clustering and Final Results (due 5/9)<br>\n",
    "\n",
    "#### Deliverable 3:  Clustering\n",
    "    \n",
    "<p>Directions:  Review the notebook by reading the markdown and running the code.  Answer the questions at the end which draw upon the knowledge gained from notebooks 1, 2 and 3 associated with the project.</p>\n",
    "<p>Steps for Deliverable 3:<br>\n",
    "    1.  Understanding the K-means clustering algorithm - an examiniation of the modeling algorithm<br>\n",
    "    2.  Import libraries and read data, prepare the data for clustering (unscaled)<br>\n",
    "    3.  Run the clustering algorithm<br>\n",
    "    4.  Analyze the results<br>\n",
    "    5.  Final Questions<br>"
   ]
  },
  {
   "cell_type": "markdown",
   "metadata": {},
   "source": [
    "### 1. Understanding the K Means Clustering Algorithm\n",
    "\n",
    "The $K$-means algorithm divides a set of $N$ samples $X$ into $K$ disjoint clusters $C$, each described by the mean $\\mu_j$ of the samples in the cluster. The means are commonly called the **cluster “centroids”**; note that they are not, in general, points from $X$, although they live in the same space. The K-means algorithm aims to choose centroids that minimise the inertia, or within-cluster sum of squared criterion:\n",
    "\n",
    "$$\\sum_{i=0}^{n}\\min_{\\mu_j \\in C}(||x_j - \\mu_i||^2)$$\n",
    "\n",
    "### How the algorithm works\n",
    "\n",
    "The Κ-means clustering algorithm uses iterative refinement to produce a final result. The algorithm inputs are the number of clusters $Κ$ and the data set. The data set is a collection of features for each data point. The algorithms starts with initial estimates for the $Κ$ centroids, which can either be randomly generated or randomly selected from the data set. The algorithm then iterates between two steps:\n",
    "\n",
    "**Data assigment step**: Each centroid defines one of the clusters. In this step, each data point is assigned to its nearest centroid, based on the squared Euclidean distance. More formally, if $c_i$ is the collection of centroids in set $C$, then each data point $x$ is assigned to a cluster based on\n",
    "\n",
    "$$\\underset{c_i \\in C}{\\arg\\min} \\; dist(c_i,x)^2$$\n",
    "where dist( · ) is the standard ($L_2$) Euclidean distance. Let the set of data point assignments for each ith cluster centroid be $S_i$.\n",
    "\n",
    "**Centroid update step**: In this step, the centroids are recomputed. This is done by taking the mean of all data points assigned to that centroid's cluster.\n",
    "\n",
    "$$c_i=\\frac{1}{|S_i|}\\sum_{x_i \\in S_i x_i}$$\n",
    "\n",
    "The algorithm iterates between steps one and two until a stopping criteria is met (i.e., no data points change clusters, the sum of the distances is minimized, or some maximum number of iterations is reached).\n",
    "\n",
    "** Convergence and random initialization **\n",
    "\n",
    "This algorithm is guaranteed to converge to a result. The result may be a local optimum (i.e. not necessarily the best possible outcome), meaning that assessing more than one run of the algorithm with randomized starting centroids may give a better outcome.\n",
    "\n",
    "<img src=https://upload.wikimedia.org/wikipedia/commons/e/ea/K-means_convergence.gif style=\"width: 500px;\"/>\n",
    "\n",
    "\n"
   ]
  },
  {
   "cell_type": "markdown",
   "metadata": {},
   "source": [
    "## 2. Import Libraries and Read Data"
   ]
  },
  {
   "cell_type": "markdown",
   "metadata": {},
   "source": [
    "#### 2. A.  Import Libraries\n",
    "<p>We are importing pandas and numpy for working with data, sklearn for scikit-learn to easily perform modeling, matplotlib for plotting and datetime to work with the date attribute.</p><p>You can simply run this code</p>\n"
   ]
  },
  {
   "cell_type": "code",
   "execution_count": null,
   "metadata": {},
   "outputs": [],
   "source": [
    "#some code so those pesky warnings from deprecated code won't appear\n",
    "import warnings\n",
    "def fxn():\n",
    "    warnings.warn(\"deprecated\", DeprecationWarning)\n",
    "with warnings.catch_warnings():\n",
    "    warnings.simplefilter(\"ignore\")\n",
    "    fxn()\n",
    "#the rest of the imports\n",
    "#pandas for working with datasets\n",
    "import pandas as pd\n",
    "#numpy for working with arrays\n",
    "import numpy as np\n",
    "#seaborn for plotting and styling visualizations\n",
    "import seaborn as sns\n",
    "#matplotlib for additional customization\n",
    "import matplotlib.pyplot as plt\n",
    "# import KMeans from sklearn\n",
    "# want to learn more?  visit https://scikit-learn.org/stable/modules/clustering.html\n",
    "from sklearn.cluster import KMeans\n",
    "#some we may not use\n",
    "#scikit-learn for preprocessing and modeling\n",
    "from sklearn.model_selection import train_test_split, cross_val_score\n",
    "from sklearn.preprocessing import StandardScaler\n",
    "from sklearn.metrics import classification_report, confusion_matrix, accuracy_score, r2_score, mean_squared_error\n",
    "from sklearn.neighbors import KNeighborsClassifier\n",
    "\n"
   ]
  },
  {
   "cell_type": "markdown",
   "metadata": {},
   "source": [
    "<h4>2. B. Input Data, Review and Prepare Attributes for Clustering</h4><br>\n",
    "  <p>  NOTE:  This data has had transformations applied for the purpose of education and ease of understanding the process we use to apply data mining to predictive analysis.  Transformations include balancing the data set, discretization according to domain understanding and other methods, merging with other data sets according to date, and imputation or removal of null values by row or column. </p>\n",
    "<p>Due to these changes, this particular data set should not be used for an actual production sytem for shark presence or attacks. For further studies, the data should be updated with additional years and rebuilt. It can be used, however, to gain an understanding of the problem in order to continue addressing the matter in a scientific manner.</p>\n",
    "<p>We won't be using all of the attributes for our clustering model, just a few of them. You can, however, use any of the attributes for your visualization.</p>"
   ]
  },
  {
   "cell_type": "code",
   "execution_count": null,
   "metadata": {},
   "outputs": [],
   "source": [
    "# encoding is a statement of the kinds of characters used\n",
    "# this data set includes some special characters\n",
    "# read the csv file sharkdata.csv into bdf\n",
    "# you can examine the csv file on the github site for class\n",
    "file = \"sharkdata.csv\"\n",
    "bdf = pd.read_csv(file, encoding=\"ISO-8859-1\")\n",
    "#let's take a look at the attributes and file size\n",
    "bdf.info()"
   ]
  },
  {
   "cell_type": "code",
   "execution_count": null,
   "metadata": {},
   "outputs": [],
   "source": [
    "#let's take a look at the data - again!\n",
    "bdf.head()"
   ]
  },
  {
   "cell_type": "code",
   "execution_count": null,
   "metadata": {},
   "outputs": [],
   "source": [
    "# this time we will use numeric data\n",
    "# we need to change the Attack Yes or No Feature to 0 or 1\n",
    "bdf[\"Attack\"] = bdf[\"Attack\"].astype('category')\n",
    "bdf[\"AttackCat\"] = bdf[\"Attack\"].cat.codes"
   ]
  },
  {
   "cell_type": "markdown",
   "metadata": {},
   "source": [
    "#### 2. C. Only include the attributes needed for modeling - create \"df\" dataframe with these attributes\n",
    "<p>You can build df to include the features you want. Here we are using the numeric features that we have already learned may be relevant from our previous work.</p>\n",
    "<p>You can simply run this code but do pay attention to the attributes we will use for modeling. We are going to use the variables unscaled for our clustering model.  We will then use scaled features to see if results improve.  </p>"
   ]
  },
  {
   "cell_type": "code",
   "execution_count": null,
   "metadata": {},
   "outputs": [],
   "source": [
    "#df will include numeric attributes for clustering\n",
    "#we are leaving the turtles and crabs out for now, also temperature (it's always hot in summer) and more!\n",
    "df = bdf[[\"MoonPhaseIntExtend\", \"StationPressure\",\n",
    "          \"WindSpeed\", \"Salinity\", \"Turbidity\", \n",
    "          \"DissolvedO2\", \"DirectionDiscInt\",\"AttackCat\"]]\n",
    "#take a look\n",
    "df.info()"
   ]
  },
  {
   "cell_type": "code",
   "execution_count": null,
   "metadata": {},
   "outputs": [],
   "source": [
    "# examine first 15 records\n",
    "df.head(15)"
   ]
  },
  {
   "cell_type": "markdown",
   "metadata": {},
   "source": [
    "### 3. Create an instance of a K Means model with 4 clusters.**"
   ]
  },
  {
   "cell_type": "code",
   "execution_count": null,
   "metadata": {},
   "outputs": [],
   "source": [
    "# Create the K Means Clustering Model on our data\n",
    "from sklearn.cluster import KMeans\n",
    "kmeans = KMeans(n_clusters=4)\n",
    "kmeans.fit(df)\n",
    "y_kmeans = kmeans.predict(df)"
   ]
  },
  {
   "cell_type": "code",
   "execution_count": null,
   "metadata": {},
   "outputs": [],
   "source": [
    "# show the cluster centers\n",
    "clus_cent=kmeans.cluster_centers_\n",
    "clus_cent"
   ]
  },
  {
   "cell_type": "code",
   "execution_count": null,
   "metadata": {},
   "outputs": [],
   "source": [
    "# let's take a look\n",
    "df.head(10)"
   ]
  },
  {
   "cell_type": "markdown",
   "metadata": {},
   "source": [
    "### 4.  Analyze the Results<br>\n",
    "<p>Lets take a look at the four clusters and the cluster centers.  If you examine this carefully, clusters 0 and 2 are rather interesting.  The AttackCat is 0 or 1 and the center for AttackCat is close to 0 or no attack.  The center for cluster 2 is 1 which is attack = yes.  Look at the centers of the attributes and be ready to report on the results below.  For example, for cluster 0, the turbidity is much lower with attack = no than it is in cluster 2 where attack = 1.<p.P"
   ]
  },
  {
   "cell_type": "markdown",
   "metadata": {},
   "source": [
    "#### 4. a.  Analyze the centroids with respect to AttackCat"
   ]
  },
  {
   "cell_type": "code",
   "execution_count": null,
   "metadata": {},
   "outputs": [],
   "source": [
    "# Analyze the clusters with respect to the centers and AttackCat.\n",
    "# For Help in Understanding some of the data, look back at previous notebooks (ex. Wind Direction Disc)\n",
    "#0 is Quarter moons, 1 is wan gibb and wax cres, 2 is wax gibb and wan cres, 3 is Full and New\n",
    "#DirectionDiscInt is the Wind Direction discretized\n",
    "#NE = 1, E = 2, SE = 3, S = 4, W = 5, SW = 6\n",
    "#MoonPhaseCat is the actual MoonPhase as a string\n",
    "#MoonPhaseCatExtended is the Extended MoonPhase\n",
    "#0 is Quarter moons, 1 is wan gibb and wax cres, 2 is wax gibb and wan cres, 3 is Full and New\n",
    "df_desc=pd.DataFrame(df.describe())\n",
    "feat = list(df_desc.columns)\n",
    "kmclus = pd.DataFrame(clus_cent,columns=feat)\n",
    "kmclus"
   ]
  },
  {
   "cell_type": "markdown",
   "metadata": {},
   "source": [
    "#### 4 b.  Add the cluster id to the dataframe for visualization"
   ]
  },
  {
   "cell_type": "code",
   "execution_count": null,
   "metadata": {},
   "outputs": [],
   "source": [
    "# add the cluster id to a dataframe called df_clus\n",
    "# then add this to our original dataset so we have weach\n",
    "# record and the cluster that the model assigned the record to\n",
    "df_clus = pd.DataFrame(data=y_kmeans,index=None,columns=None)\n",
    "df_clus.columns = ['cluster_id']\n"
   ]
  },
  {
   "cell_type": "code",
   "execution_count": null,
   "metadata": {},
   "outputs": [],
   "source": [
    "# merge with original data frame, ignore warnings!\n",
    "# lets take a look - you can see the id of the cluster now along with AttackCat\n",
    "df['id_of_cluster'] = df_clus['cluster_id']\n",
    "df.head(15)"
   ]
  },
  {
   "cell_type": "markdown",
   "metadata": {},
   "source": [
    "#### 4 C.  Visualization with Scatter Plots and color coded clusters"
   ]
  },
  {
   "cell_type": "code",
   "execution_count": null,
   "metadata": {},
   "outputs": [],
   "source": [
    "# lets do some visualization\n",
    "# we are going to set up some colors for attack = 0 (no attack) or 1 (attack)\n",
    "cluster_colors = {0:'blue', 1:'red', 2:'yellow', 3:'green'}\n",
    "pd.plotting.scatter_matrix(df.loc[:,\"MoonPhaseIntExtend\":\"AttackCat\"],figsize=(30,30),grid=True,\n",
    "                           marker='o', c= df['id_of_cluster'].map(cluster_colors))\n"
   ]
  },
  {
   "cell_type": "markdown",
   "metadata": {},
   "source": [
    "## 5.  Final Questions\n",
    "<p>Review the original problem statement and Deliverables 1 through 3.  After discussing all resulrs, answer the following questions.</p>\n",
    "<p>Question 1:  Summarize your work in two to four paragraphs (be concise).  What was the problem?  What did you do to solve it?  What did you learn?  </p>\n",
    "<p>Question 2:  In order to continue the shark research and improve on the results, what would be some logical next steps?</p>\n",
    "<p>Question 3:  Have you noticed if any features are of particular importance?  What are they and why?</p>\n",
    "<p>Question 4:  What features do not seem important?  Why?</p>\n",
    "<p>Question 5:  What was your favorite algorithm?  Why?</p>\n"
   ]
  },
  {
   "cell_type": "markdown",
   "metadata": {},
   "source": [
    "Question 1 answer."
   ]
  },
  {
   "cell_type": "markdown",
   "metadata": {},
   "source": [
    "Question 2 answer."
   ]
  },
  {
   "cell_type": "markdown",
   "metadata": {},
   "source": [
    "Question 3 answer."
   ]
  },
  {
   "cell_type": "markdown",
   "metadata": {},
   "source": [
    "Question 4 answer."
   ]
  },
  {
   "cell_type": "markdown",
   "metadata": {},
   "source": [
    "Question 5 answer."
   ]
  },
  {
   "cell_type": "code",
   "execution_count": null,
   "metadata": {},
   "outputs": [],
   "source": []
  }
 ],
 "metadata": {
  "kernelspec": {
   "display_name": "Python 3",
   "language": "python",
   "name": "python3"
  },
  "language_info": {
   "codemirror_mode": {
    "name": "ipython",
    "version": 3
   },
   "file_extension": ".py",
   "mimetype": "text/x-python",
   "name": "python",
   "nbconvert_exporter": "python",
   "pygments_lexer": "ipython3",
   "version": "3.7.4"
  }
 },
 "nbformat": 4,
 "nbformat_minor": 2
}
