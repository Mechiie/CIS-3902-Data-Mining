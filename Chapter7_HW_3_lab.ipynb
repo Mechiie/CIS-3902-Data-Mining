{
  "nbformat": 4,
  "nbformat_minor": 0,
  "metadata": {
    "anaconda-cloud": {},
    "celltoolbar": "Raw Cell Format",
    "kernelspec": {
      "display_name": "Python 3",
      "language": "python",
      "name": "python3"
    },
    "language_info": {
      "codemirror_mode": {
        "name": "ipython",
        "version": 3
      },
      "file_extension": ".py",
      "mimetype": "text/x-python",
      "name": "python",
      "nbconvert_exporter": "python",
      "pygments_lexer": "ipython3",
      "version": "3.7.4"
    },
    "colab": {
      "name": "Chapter-1-HW",
      "provenance": [],
      "include_colab_link": true
    }
  },

  "cells": [
    {
      "cell_type": "markdown",
      "metadata": {
        "id": "view-in-github",
        "colab_type": "text"
      },
      "source": [
        "<a href=\"https://colab.research.google.com/github/catawba-data-mining/CIS-3902-Data-Mining/blob/main/chapter1_homework1_lab.ipynb\" target=\"_parent\"><img src=\"https://colab.research.google.com/assets/colab-badge.svg\" alt=\"Open In Colab\"/></a>"
      ]
    },
    {
      "cell_type": "markdown",
      "metadata": {
        "id": "WfKm7jpAYc0z"
      },
      "source": [
    "Catawba College Data Mining Class\n",
    "Data 100: Chapter 7 Data Representation\n",
    "\n",
    "INSTRUCTIONS: To open this file in Google COLAB, click on the COLAB link (blue). Follow all instructions in the Program once in Colab. You do not have to turn in the code. After studying the code and the output with your group, return to Blackboard and complete the rest of the activity.\n",
    "\n",
    "In this notebook, we will use the power of Python code to explore several different files and create charts and graphs (visualization techniques) to gain important insight into the data.\n",
    "\n",
    "First we need to set up our environment and import a few packages and related modules:\n",
    "a. The Data 8 text uses a package called \"Data Science\" that provides useful functions.\n",
    "b. Pandas for tabular data manipulation and analysis\n",
    "c. NumPy for working with arrays\n",
    "d. matplotlib for plotting\n",
    "e. warnings to provide warning control\n",
    "f. urllib (urlopen) to fetch urls\n",
    "g. re for regular expression operations\n",
    "\n",
    "STEP 1: Place your cursor (click) in the code cells and click on the triangle to the left of the code to execute (click RUN ANYWAY on first code block if you get an authorization error). Some code blocks WILL NOT display any output. Some code blocks generate many messages! You can clear these by clicking on the x where the messages are displayed."
   ]
  },
  {
   "cell_type": "code",
   "execution_count": null,
   "id": "proud-animal",
   "metadata": {
    "scrolled": true
   },
   "outputs": [],
   "source": [
    "#STEP 1:  we need to install datascience first because it is not a typical package that comes with our programming environment\n",
    "#more information can be found here (optional reading https://jakevdp.github.io/blog/2017/12/05/installing-python-packages-from-jupyter/)\n",
    "#!pip install datascience\n",
    "# Install a pip package in the current Jupyter kernel\n",
    "import sys\n",
    "!{sys.executable} -m pip install datascience\n",
    "!{sys.executable} -m pip install sodapy\n",
    "#\n",
    "#after this is executed you can click on the x (person changes to x when cursor is hovered) in order to clear messages"
   ]
  },
  {
   "cell_type": "code",
   "execution_count": null,
   "id": "friendly-armstrong",
   "metadata": {},
   "outputs": [],
   "source": [
    "#STEP 1:  continued\n",
    "from datascience import *\n",
    "import numpy as np\n",
    "import pandas as pd\n",
    "from sodapy import Socrata\n",
    "%matplotlib inline\n",
    "import matplotlib.pyplot as plots\n",
    "plots.style.use('fivethirtyeight')\n",
    "import warnings\n",
    "warnings.simplefilter(action=\"ignore\", category=FutureWarning)\n",
    "\n",
    "from urllib.request import urlopen \n",
    "import re\n",
    "def read_url(url): \n",
    "    return re.sub('\\\\s+', ' ', urlopen(url).read().decode())"
   ]
  },
  {
   "cell_type": "markdown",
   "id": "animal-portal",
   "metadata": {},
   "source": [
    "STEP 2: Running the code below will allow us read the file(s) that we will exploring. Remember to read the comments included with the code! They start with \"#\"."
   ]
  },
  {
   "cell_type": "markdown",
   "id": "efficient-techno",
   "metadata": {},
   "source": [
    "In this lab, we are going to be exploring the restaurant scores dataset found in Chapter 7. "
   ]
  },
  {
   "cell_type": "code",
   "execution_count": null,
   "id": "standard-treasury",
   "metadata": {
    "scrolled": true
   },
   "outputs": [],
   "source": [
    "# This uses the Socrata API to download a copy of the dataset. \n",
    "\n",
    "# Unauthenticated client only works with public data sets. Note 'None'\n",
    "# in place of application token, and no username or password:\n",
    "client = Socrata(\"data.sfgov.org\", None)\n",
    "\n",
    "# First 2000 results, returned as JSON from API / converted to Python list of\n",
    "# dictionaries by sodapy.\n",
    "results = client.get(\"pyih-qa8i\", limit=2000)\n",
    "# This restricts us to 2000 records,\n",
    "# but we could change this number for a larger value\n",
    "\n",
    "# Convert to pandas DataFrame\n",
    "results = pd.DataFrame.from_records(results)\n",
    "\n",
    "results"
   ]
  },
  {
   "cell_type": "markdown",
   "id": "satisfied-seating",
   "metadata": {},
   "source": [
    "We will start by selecting the columns we are interested in. This dataset has a number of columns we don't need to use, such as geographic information. "
   ]
  },
  {
   "cell_type": "code",
   "execution_count": null,
   "id": "medieval-degree",
   "metadata": {},
   "outputs": [],
   "source": [
    "restaurants = results[['business_name', 'inspection_score', 'inspection_type', 'violation_description', 'risk_category']]\n",
    "restaurants"
   ]
  },
  {
   "cell_type": "code",
   "execution_count": null,
   "id": "atomic-monday",
   "metadata": {},
   "outputs": [],
   "source": [
    "# We can look at the scores as a histogram, but to do that we need to \n",
    "# convert the inspection_score column to a numeric type so that we can \n",
    "# plot it. \n",
    "restaurants['inspection_score'].astype(np.float).hist()"
   ]
  },
  {
   "cell_type": "markdown",
   "id": "secret-commission",
   "metadata": {},
   "source": [
    "Now, lets look more closely at the categories of risk violation and inspection types. "
   ]
  },
  {
   "cell_type": "code",
   "execution_count": null,
   "id": "noted-pharmacology",
   "metadata": {},
   "outputs": [],
   "source": [
    "# value_counts counts the number of unique instances of a term. \n",
    "# to_frame converts the results into a structure called a data frame\n",
    "# that is easier to manipulate\n",
    "restaurants['risk_category'].value_counts().to_frame()"
   ]
  },
  {
   "cell_type": "code",
   "execution_count": null,
   "id": "acquired-shark",
   "metadata": {},
   "outputs": [],
   "source": [
    "# We repeat the process with the inspection type.\n",
    "restaurants['inspection_type'].value_counts().to_frame()"
   ]
  },
  {
   "cell_type": "markdown",
   "id": "familiar-atlanta",
   "metadata": {},
   "source": [
    "Let's make a very simple bar plot to look at the distributions."
   ]
  },
  {
   "cell_type": "code",
   "execution_count": null,
   "id": "informed-handle",
   "metadata": {},
   "outputs": [],
   "source": [
    "# This is using slightly different commands to make the chart since \n",
    "# this is a data frame. \n",
    "restaurants['risk_category'].value_counts().plot.barh()"
   ]
  },
  {
   "cell_type": "markdown",
   "id": "filled-while",
   "metadata": {},
   "source": [
    "We see that there are many low risk violations and fewer high risk violations. Lets see what kinds of violations occur most often. "
   ]
  },
  {
   "cell_type": "code",
   "execution_count": null,
   "id": "unknown-groove",
   "metadata": {},
   "outputs": [],
   "source": [
    "def risk_counts(risk):\n",
    "    return (restaurants.loc[restaurants['risk_category'] == risk,\n",
    "                       'violation_description']\n",
    "            .value_counts().head())"
   ]
  },
  {
   "cell_type": "code",
   "execution_count": null,
   "id": "relative-mainland",
   "metadata": {},
   "outputs": [],
   "source": [
    "# Now, we can look at the categories. \n",
    "# Start with the 'High Risk Group and make a data frame'\n",
    "risk_counts('High Risk').to_frame()"
   ]
  },
  {
   "cell_type": "code",
   "execution_count": null,
   "id": "olive-arizona",
   "metadata": {},
   "outputs": [],
   "source": [
    "# Make a bar chart showing the distribution of violations.\n",
    "risk_counts('High Risk').to_frame().plot.barh()"
   ]
  },
  {
   "cell_type": "code",
   "execution_count": null,
   "id": "honey-arkansas",
   "metadata": {},
   "outputs": [],
   "source": [
    "#It's your turn now. "
   ]
  },
  {
   "cell_type": "code",
   "execution_count": null,
   "id": "mineral-factory",
   "metadata": {},
   "outputs": [],
   "source": [
    "# Make a data frame for the 'Moderate Risk' group."
   ]
  },
  {
   "cell_type": "code",
   "execution_count": null,
   "id": "understood-driving",
   "metadata": {},
   "outputs": [],
   "source": [
    "# Then, make a data frame for the 'Low Risk' group."
   ]
  },
  {
   "cell_type": "code",
   "execution_count": null,
   "id": "coral-turning",
   "metadata": {},
   "outputs": [],
   "source": [
    "# Lastly, make a horizontal bar chart showing the distributions of violations\n",
    "# for the 'Moderate Risk' and 'Low Risk' groups. "
   ]
  },
  {
   "cell_type": "markdown",
   "id": "super-effort",
   "metadata": {},
   "source": [
    "When you finish, download your ipynb file and upload it to blackboard."
   ]
  }
 ],
 "metadata": {
  "kernelspec": {
   "display_name": "Python 3",
   "language": "python",
   "name": "python3"
  },
  "language_info": {
   "codemirror_mode": {
    "name": "ipython",
    "version": 3
   },
   "file_extension": ".py",
   "mimetype": "text/x-python",
   "name": "python",
   "nbconvert_exporter": "python",
   "pygments_lexer": "ipython3",
   "version": "3.6.12"
  }
 },
 "nbformat": 4,
 "nbformat_minor": 5
}
