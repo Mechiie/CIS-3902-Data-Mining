{
 "cells": [
  {
   "cell_type": "markdown",
   "metadata": {},
   "source": [
    " <h1><center>Would You Survive the Titanic?  Machine Learning with the Titanic Data<br>\n",
    "        Catawba College Data Mining Class</center><br>\n",
    "        <h2> Research question:  Using public data on Titanic Passengers, can we predict who will survive with accuracy?<br><img src=\"http://activehistory.ca/wp-content/uploads/2012/04/T1.jpeg\"></h1></h2><br>\n",
    "<p>This tutorial aims to give you an accessible introduction on how to use machine learning techniques for your projects and data sets. You will learn how to use Python to apply different machine learning techniques — from decision trees to deep neural networks — to the actual titanic data set. This is a practical, not a conceptual, exercise.</p><p>This project, unlike our others is to be submitted individually but you are necouraged to work with your group and classmates.</p>\n",
    "<h3>Enter your name here:\n",
    "    \n"
   ]
  },
  {
   "cell_type": "markdown",
   "metadata": {},
   "source": [
    "\n",
    "<p><h3>DIRECTIONS:<br><br>\n",
    "    1. You will be adding code to this notebook. Add your name to the first cell and execute or run the cell.<br><br>\n",
    "    2.  Follow the tutorial at <a href=\"https://humansofdata.atlan.com/2016/07/machine-learning-python/#Computational_Brains_%E2%80%94_An_Introduction_to_Deep_Neural_Networks\">Would You Survive the Titanic?</a>:<br><br>\n",
    "    a.  The code for installing libraries, packages and reading the data are already in this notebook.  Execute the cells with this code.<br><br>\n",
    "    b.  Follow the tutorial and add markdown cells (Insert . . . cell below . . . change dropdown to Markdown) or Code cells (Insert . . . cell below . . . change dropdown to Code) as necessary to complete the lab.  You can \"copy\" and \"paste\" the code into the cells.  Markdown is documentation - add this to explain your code from the tutorial; it should be more concise than the tutorial.  You can add comments to Code with the hashtag #.<br><br>\n",
    "    c.  Remember to execute each code block and make sure you understand the code!<br><br>\n",
    "    3.  Individually:  When complete, download your notebook and submit in Blackboard by the due date.<br><br>\n",
    "    <p>\n",
    "    If you want to save your work from Colab and restart or run this on your own computer's Jupyter (Anaconda) installation or reload in Colab:<br>\n",
    "\n",
    "    Download the notebook by going to File --> Download .ipynb.\n",
    "        \n",
    "    When you are ready to work again, visit Google Colab\n",
    "        at  https://colab.research.google.com\n",
    "        \n",
    "    On the welcome window click on UPLOAD at the top right and browse \n",
    "        to upload the .ipynb you've just downloaded.\n",
    "        \n",
    "    You should now be able to continue work on your notebook.\n",
    "        \n",
    "    IMPORTANT:  You do need to rerun all code blocks in order to\n",
    "        import necessary libraries.<br><br><p>\n",
    "    \n",
    "\n"
   ]
  },
  {
   "cell_type": "markdown",
   "metadata": {},
   "source": [
    "## PART 1: Introduction to Linear Regression Modeling\n",
    "\n",
    "In statistics, linear regression is a popular approach for modeling the relationship between a dependent variable y and one or more explanatory variables (or independent variables) denoted X. The case of one explanatory variable is called simple linear regression. For more than one explanatory variable, the model is labeled multiple linear regression.\n",
    "\n",
    "In linear regression, the relationships are modeled using linear predictor functions whose unknown model parameters are estimated from the data. Such models are called linear models. \n",
    "\n",
    "Linear regression models are often fitted using the least squares approach, but they may also be fitted in other ways (see note at end). Additionally, the least squares approach can be used to fit models that are not linear models. Although the terms \"least squares\" and \"linear model\" are closely linked, they are not synonymous.\n",
    "\n",
    "NOTE:  Other modelings for linear regression include minimizing the \"lack of fit\" in some other form (as with least absolute deviations regression), or by minimizing a penalized version of the least squares loss function as in ridge regression ($L_2$-norm penalty) and lasso ($L_1$-norm penalty). This is a topic for advanced discussion!"
   ]
  },
  {
   "cell_type": "markdown",
   "metadata": {},
   "source": [
    "## Will You Survive The Titanic?  Follow the tutorial at <a href=\"https://humansofdata.atlan.com/2016/07/machine-learning-python/#Computational_Brains_%E2%80%94_An_Introduction_to_Deep_Neural_Networks\">Machine Learning with the Titanic Dataset</a> - STEPS 1 through 5, 7 and 8 only."
   ]
  },
  {
   "cell_type": "markdown",
   "metadata": {},
   "source": [
    "## STEP 1:  Setting Up Your Machine Learning Laboratory.  \n",
    "### No code required in this section, just review the information in the tutorial"
   ]
  },
  {
   "cell_type": "markdown",
   "metadata": {},
   "source": [
    "## STEP 2:  The Data at First Glance:  Who Survived the Titanic and Why?  \n",
    "### First import the required Python dependencies."
   ]
  },
  {
   "cell_type": "code",
   "execution_count": 21,
   "metadata": {},
   "outputs": [],
   "source": [
    "import matplotlib.pyplot as plt\n",
    "%matplotlib inline\n",
    "import random\n",
    "import numpy as np\n",
    "import pandas as pd\n",
    "from sklearn.model_selection import cross_validate\n",
    "from sklearn import datasets, svm, tree, preprocessing, metrics\n",
    "import sklearn.ensemble as ske\n",
    "# import tensorflow as tf (for later work, this is the step we are skipping)\n",
    "# from tensorflow.contrib import skflow"
   ]
  },
  {
   "cell_type": "markdown",
   "metadata": {},
   "source": [
    "## Using pandas, load the csv file from the class github site 'titanic3.csv' and examine the first few records.  "
   ]
  },
  {
   "cell_type": "markdown",
   "metadata": {},
   "source": [
    "<p>This code is a little different from the tutorial.  Because we are using colab, we are reading from Github so we do not have to load an external file to the cloud each time we run the program.  Github works best with CSV files for programs like this as we need to be able to display the \"raw\" file in order to use a URL that will bring in the raw data to our program.</p><p>  We are using pandas to read the first record for the headers first, then reading the rest of the file, the data, and adding the first row for the header row.  The file also had to be prepared by removing special characters from the Excel file in the tutorial before converting it to csv.  If you are working locally the tutorial may work with the Excel file.  Both are in our Github site (csv and Excel) and available for download.</p>"
   ]
  },
  {
   "cell_type": "code",
   "execution_count": 23,
   "metadata": {},
   "outputs": [
    {
     "data": {
      "text/html": [
       "<div>\n",
       "<style scoped>\n",
       "    .dataframe tbody tr th:only-of-type {\n",
       "        vertical-align: middle;\n",
       "    }\n",
       "\n",
       "    .dataframe tbody tr th {\n",
       "        vertical-align: top;\n",
       "    }\n",
       "\n",
       "    .dataframe thead th {\n",
       "        text-align: right;\n",
       "    }\n",
       "</style>\n",
       "<table border=\"1\" class=\"dataframe\">\n",
       "  <thead>\n",
       "    <tr style=\"text-align: right;\">\n",
       "      <th></th>\n",
       "      <th>pclass</th>\n",
       "      <th>survived</th>\n",
       "      <th>name</th>\n",
       "      <th>sex</th>\n",
       "      <th>age</th>\n",
       "      <th>sibsp</th>\n",
       "      <th>parch</th>\n",
       "      <th>ticket</th>\n",
       "      <th>fare</th>\n",
       "      <th>cabin</th>\n",
       "      <th>embarked</th>\n",
       "      <th>boat</th>\n",
       "      <th>body</th>\n",
       "      <th>homedest</th>\n",
       "    </tr>\n",
       "  </thead>\n",
       "  <tbody>\n",
       "    <tr>\n",
       "      <th>0</th>\n",
       "      <td>1.0</td>\n",
       "      <td>1.0</td>\n",
       "      <td>Allen Miss Elisabeth</td>\n",
       "      <td>female</td>\n",
       "      <td>29.0000</td>\n",
       "      <td>0.0</td>\n",
       "      <td>0.0</td>\n",
       "      <td>24160</td>\n",
       "      <td>211.3375</td>\n",
       "      <td>B5</td>\n",
       "      <td>S</td>\n",
       "      <td>2</td>\n",
       "      <td>NaN</td>\n",
       "      <td>St Louis MO</td>\n",
       "    </tr>\n",
       "    <tr>\n",
       "      <th>1</th>\n",
       "      <td>1.0</td>\n",
       "      <td>1.0</td>\n",
       "      <td>Allison Master Hudson</td>\n",
       "      <td>male</td>\n",
       "      <td>0.9167</td>\n",
       "      <td>1.0</td>\n",
       "      <td>2.0</td>\n",
       "      <td>113781</td>\n",
       "      <td>151.5500</td>\n",
       "      <td>C22 C26</td>\n",
       "      <td>S</td>\n",
       "      <td>11</td>\n",
       "      <td>NaN</td>\n",
       "      <td>Montreal PQ  Chesterville ON</td>\n",
       "    </tr>\n",
       "    <tr>\n",
       "      <th>2</th>\n",
       "      <td>1.0</td>\n",
       "      <td>0.0</td>\n",
       "      <td>Allison Miss Helen</td>\n",
       "      <td>female</td>\n",
       "      <td>2.0000</td>\n",
       "      <td>1.0</td>\n",
       "      <td>2.0</td>\n",
       "      <td>113781</td>\n",
       "      <td>151.5500</td>\n",
       "      <td>C22 C26</td>\n",
       "      <td>S</td>\n",
       "      <td>NaN</td>\n",
       "      <td>NaN</td>\n",
       "      <td>Montreal PQ  Chesterville ON</td>\n",
       "    </tr>\n",
       "    <tr>\n",
       "      <th>3</th>\n",
       "      <td>1.0</td>\n",
       "      <td>0.0</td>\n",
       "      <td>Allison Mr Hudson</td>\n",
       "      <td>male</td>\n",
       "      <td>30.0000</td>\n",
       "      <td>1.0</td>\n",
       "      <td>2.0</td>\n",
       "      <td>113781</td>\n",
       "      <td>151.5500</td>\n",
       "      <td>C22 C26</td>\n",
       "      <td>S</td>\n",
       "      <td>NaN</td>\n",
       "      <td>135.0</td>\n",
       "      <td>Montreal PQ  Chesterville ON</td>\n",
       "    </tr>\n",
       "    <tr>\n",
       "      <th>4</th>\n",
       "      <td>1.0</td>\n",
       "      <td>0.0</td>\n",
       "      <td>Allison Mrs Hudson</td>\n",
       "      <td>female</td>\n",
       "      <td>25.0000</td>\n",
       "      <td>1.0</td>\n",
       "      <td>2.0</td>\n",
       "      <td>113781</td>\n",
       "      <td>151.5500</td>\n",
       "      <td>C22 C26</td>\n",
       "      <td>S</td>\n",
       "      <td>NaN</td>\n",
       "      <td>NaN</td>\n",
       "      <td>Montreal PQ  Chesterville ON</td>\n",
       "    </tr>\n",
       "  </tbody>\n",
       "</table>\n",
       "</div>"
      ],
      "text/plain": [
       "   pclass  survived                   name     sex      age  sibsp  parch  \\\n",
       "0     1.0       1.0   Allen Miss Elisabeth  female  29.0000    0.0    0.0   \n",
       "1     1.0       1.0  Allison Master Hudson    male   0.9167    1.0    2.0   \n",
       "2     1.0       0.0     Allison Miss Helen  female   2.0000    1.0    2.0   \n",
       "3     1.0       0.0      Allison Mr Hudson    male  30.0000    1.0    2.0   \n",
       "4     1.0       0.0     Allison Mrs Hudson  female  25.0000    1.0    2.0   \n",
       "\n",
       "   ticket      fare    cabin embarked boat   body  \\\n",
       "0   24160  211.3375       B5        S    2    NaN   \n",
       "1  113781  151.5500  C22 C26        S   11    NaN   \n",
       "2  113781  151.5500  C22 C26        S  NaN    NaN   \n",
       "3  113781  151.5500  C22 C26        S  NaN  135.0   \n",
       "4  113781  151.5500  C22 C26        S  NaN    NaN   \n",
       "\n",
       "                       homedest  \n",
       "0                   St Louis MO  \n",
       "1  Montreal PQ  Chesterville ON  \n",
       "2  Montreal PQ  Chesterville ON  \n",
       "3  Montreal PQ  Chesterville ON  \n",
       "4  Montreal PQ  Chesterville ON  "
      ]
     },
     "execution_count": 23,
     "metadata": {},
     "output_type": "execute_result"
    }
   ],
   "source": [
    "url='https://raw.githubusercontent.com/catawba-data-mining/CIS-3902-Data-Mining/main/titanic3.csv'\n",
    "cols = pd.read_csv(url, nrows=1).columns\n",
    "#df = pd.read_csv('Path\\\\to\\\\file\\\\atp_matches_2016.csv', usecols=cols)\n",
    "titanic_df = pd.read_csv(url, usecols=cols,index_col=None, na_values=['NA'],engine='python')\n",
    "titanic_df.head()"
   ]
  },
  {
   "cell_type": "markdown",
   "metadata": {},
   "source": [
    "<p><h2>The Titanic was an unprecedented disaster and has stayed in the attention of the public through popular movies and our ability to mine the data from the passenger list.  Watch this video from a popular movie showing the boat leaving with the excited passengers:  <a href=\"https://youtu.be/3lyiZMeTKIo\">The Titanic Departing</a></h2></p><p>\n",
    "    <img src=\"https://mattsko.files.wordpress.com/2020/06/titanic-leaving-england.jpg\"></p>"
   ]
  },
  {
   "cell_type": "markdown",
   "metadata": {},
   "source": [
    "### Now you are on your own!  Add a markdown cell before each code block with an explanation of the code.  Then add a code block and copy the code from the tutorial, paste it into the cell and execute the code.  Review the code in order to understand what it being accomplished.<br><br>Here is the first one so you can see where to continue.  A markdown cell has been added by selecting Insert . . . Cell Below . . . and then changing the type to \"Markdown\"."
   ]
  },
  {
   "cell_type": "markdown",
   "metadata": {},
   "source": [
    "Now that we have the data in a dataframe, we can begin an advanced analysis of the data using powerful single-line Pandas functions. First, let’s examine the overall chance of survival for a Titanic passenger."
   ]
  },
  {
   "cell_type": "markdown",
   "metadata": {},
   "source": [
    "### To add the related code select Insert . . . Cell Below . . and then change the type to \"Code\".  The code from the tutorial can then be pasted into the cell and executed.  You can add comments to the code with #."
   ]
  },
  {
   "cell_type": "code",
   "execution_count": 24,
   "metadata": {},
   "outputs": [
    {
     "data": {
      "text/plain": [
       "0.3819709702062643"
      ]
     },
     "execution_count": 24,
     "metadata": {},
     "output_type": "execute_result"
    }
   ],
   "source": [
    "# show the mean of the column named survived\n",
    "# you can show the mean of any numeric column with this command\n",
    "titanic_df['survived'].mean()"
   ]
  }
 ],
 "metadata": {
  "kernelspec": {
   "display_name": "Python 3",
   "language": "python",
   "name": "python3"
  },
  "language_info": {
   "codemirror_mode": {
    "name": "ipython",
    "version": 3
   },
   "file_extension": ".py",
   "mimetype": "text/x-python",
   "name": "python",
   "nbconvert_exporter": "python",
   "pygments_lexer": "ipython3",
   "version": "3.7.6"
  }
 },
 "nbformat": 4,
 "nbformat_minor": 2
}
